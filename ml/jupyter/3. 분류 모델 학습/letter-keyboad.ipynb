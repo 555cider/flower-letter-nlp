{
 "cells": [
  {
   "cell_type": "code",
   "execution_count": 1,
   "metadata": {},
   "outputs": [
    {
     "name": "stdout",
     "output_type": "stream",
     "text": [
      "Requirement already satisfied: mxnet in /home/team9/.local/lib/python3.8/site-packages (1.8.0.post0)\n",
      "Requirement already satisfied: numpy<2.0.0,>1.16.0 in /home/team9/.local/lib/python3.8/site-packages (from mxnet) (1.21.4)\n",
      "Requirement already satisfied: graphviz<0.9.0,>=0.8.1 in /home/team9/.local/lib/python3.8/site-packages (from mxnet) (0.8.4)\n",
      "Requirement already satisfied: requests<3,>=2.20.0 in /usr/lib/python3/dist-packages (from mxnet) (2.22.0)\n",
      "Requirement already satisfied: gluonnlp in /home/team9/.local/lib/python3.8/site-packages (0.10.0)\n",
      "Requirement already satisfied: pandas in /home/team9/.local/lib/python3.8/site-packages (1.3.4)\n",
      "Requirement already satisfied: tqdm in /home/team9/.local/lib/python3.8/site-packages (4.62.3)\n",
      "Requirement already satisfied: cython in /home/team9/.local/lib/python3.8/site-packages (from gluonnlp) (0.29.25)\n",
      "Requirement already satisfied: packaging in /home/team9/.local/lib/python3.8/site-packages (from gluonnlp) (21.3)\n",
      "Requirement already satisfied: numpy>=1.16.0 in /home/team9/.local/lib/python3.8/site-packages (from gluonnlp) (1.21.4)\n",
      "Requirement already satisfied: pytz>=2017.3 in /usr/lib/python3/dist-packages (from pandas) (2019.3)\n",
      "Requirement already satisfied: python-dateutil>=2.7.3 in /usr/lib/python3/dist-packages (from pandas) (2.7.3)\n",
      "Requirement already satisfied: pyparsing!=3.0.5,>=2.0.2 in /home/team9/.local/lib/python3.8/site-packages (from packaging->gluonnlp) (3.0.6)\n",
      "Requirement already satisfied: sentencepiece in /home/team9/.local/lib/python3.8/site-packages (0.1.96)\n",
      "Collecting transformers==3.0.2\n",
      "  Using cached transformers-3.0.2-py3-none-any.whl (769 kB)\n",
      "Requirement already satisfied: sentencepiece!=0.1.92 in /home/team9/.local/lib/python3.8/site-packages (from transformers==3.0.2) (0.1.96)\n",
      "Requirement already satisfied: tqdm>=4.27 in /home/team9/.local/lib/python3.8/site-packages (from transformers==3.0.2) (4.62.3)\n",
      "Requirement already satisfied: requests in /usr/lib/python3/dist-packages (from transformers==3.0.2) (2.22.0)\n",
      "Requirement already satisfied: regex!=2019.12.17 in /home/team9/.local/lib/python3.8/site-packages (from transformers==3.0.2) (2021.11.10)\n",
      "Requirement already satisfied: sacremoses in /home/team9/.local/lib/python3.8/site-packages (from transformers==3.0.2) (0.0.46)\n",
      "Collecting tokenizers==0.8.1.rc1\n",
      "  Using cached tokenizers-0.8.1rc1-cp38-cp38-manylinux1_x86_64.whl (3.0 MB)\n",
      "Requirement already satisfied: numpy in /home/team9/.local/lib/python3.8/site-packages (from transformers==3.0.2) (1.21.4)\n",
      "Requirement already satisfied: packaging in /home/team9/.local/lib/python3.8/site-packages (from transformers==3.0.2) (21.3)\n",
      "Requirement already satisfied: filelock in /home/team9/.local/lib/python3.8/site-packages (from transformers==3.0.2) (3.4.0)\n",
      "Requirement already satisfied: click in /usr/lib/python3/dist-packages (from sacremoses->transformers==3.0.2) (7.0)\n",
      "Requirement already satisfied: six in /usr/lib/python3/dist-packages (from sacremoses->transformers==3.0.2) (1.14.0)\n",
      "Requirement already satisfied: joblib in /home/team9/.local/lib/python3.8/site-packages (from sacremoses->transformers==3.0.2) (1.1.0)\n",
      "Requirement already satisfied: pyparsing!=3.0.5,>=2.0.2 in /home/team9/.local/lib/python3.8/site-packages (from packaging->transformers==3.0.2) (3.0.6)\n",
      "\u001b[31mERROR: kobert 0.1.2 has requirement transformers>=4.8.1, but you'll have transformers 3.0.2 which is incompatible.\u001b[0m\n",
      "Installing collected packages: tokenizers, transformers\n",
      "  Attempting uninstall: tokenizers\n",
      "    Found existing installation: tokenizers 0.10.3\n",
      "    Uninstalling tokenizers-0.10.3:\n",
      "      Successfully uninstalled tokenizers-0.10.3\n",
      "  Attempting uninstall: transformers\n",
      "    Found existing installation: transformers 4.13.0\n",
      "    Uninstalling transformers-4.13.0:\n",
      "      Successfully uninstalled transformers-4.13.0\n",
      "Successfully installed tokenizers-0.8.1rc1 transformers-3.0.2\n",
      "Requirement already satisfied: torch in /home/team9/.local/lib/python3.8/site-packages (1.10.0)\n",
      "Requirement already satisfied: typing-extensions in /home/team9/.local/lib/python3.8/site-packages (from torch) (4.0.1)\n",
      "Requirement already satisfied: numpy in /home/team9/.local/lib/python3.8/site-packages (1.21.4)\n",
      "Requirement already satisfied: sklearn in /home/team9/.local/lib/python3.8/site-packages (0.0)\n",
      "Requirement already satisfied: scikit-learn in /home/team9/.local/lib/python3.8/site-packages (from sklearn) (1.0.1)\n",
      "Requirement already satisfied: numpy>=1.14.6 in /home/team9/.local/lib/python3.8/site-packages (from scikit-learn->sklearn) (1.21.4)\n",
      "Requirement already satisfied: threadpoolctl>=2.0.0 in /home/team9/.local/lib/python3.8/site-packages (from scikit-learn->sklearn) (3.0.0)\n",
      "Requirement already satisfied: scipy>=1.1.0 in /home/team9/.local/lib/python3.8/site-packages (from scikit-learn->sklearn) (1.7.3)\n",
      "Requirement already satisfied: joblib>=0.11 in /home/team9/.local/lib/python3.8/site-packages (from scikit-learn->sklearn) (1.1.0)\n"
     ]
    }
   ],
   "source": [
    "# 라이브러리 설치\n",
    "!pip install mxnet\n",
    "!pip install gluonnlp pandas tqdm\n",
    "!pip install sentencepiece\n",
    "!pip install transformers==3.0.2\n",
    "!pip install torch\n",
    "!pip install numpy\n",
    "!pip install sklearn"
   ]
  },
  {
   "cell_type": "code",
   "execution_count": 2,
   "metadata": {},
   "outputs": [
    {
     "name": "stdout",
     "output_type": "stream",
     "text": [
      "Collecting git+https://****@github.com/SKTBrain/KoBERT.git@master\n",
      "  Cloning https://****@github.com/SKTBrain/KoBERT.git (to revision master) to /tmp/pip-req-build-k9_o8j7b\n",
      "  Running command git clone -q 'https://****@github.com/SKTBrain/KoBERT.git' /tmp/pip-req-build-k9_o8j7b\n",
      "Requirement already satisfied (use --upgrade to upgrade): kobert==0.1.2 from git+https://****@github.com/SKTBrain/KoBERT.git@master in /home/team9/.local/lib/python3.8/site-packages\n",
      "Requirement already satisfied: gluonnlp>=0.6.0 in /home/team9/.local/lib/python3.8/site-packages (from kobert==0.1.2) (0.10.0)\n",
      "Requirement already satisfied: mxnet>=1.4.0 in /home/team9/.local/lib/python3.8/site-packages (from kobert==0.1.2) (1.8.0.post0)\n",
      "Requirement already satisfied: onnxruntime>=0.3.0 in /home/team9/.local/lib/python3.8/site-packages (from kobert==0.1.2) (1.10.0)\n",
      "Requirement already satisfied: sentencepiece>=0.1.6 in /home/team9/.local/lib/python3.8/site-packages (from kobert==0.1.2) (0.1.96)\n",
      "Requirement already satisfied: torch>=1.7.0 in /home/team9/.local/lib/python3.8/site-packages (from kobert==0.1.2) (1.10.0)\n",
      "Collecting transformers>=4.8.1\n",
      "  Using cached transformers-4.13.0-py3-none-any.whl (3.3 MB)\n",
      "Requirement already satisfied: numpy>=1.16.0 in /home/team9/.local/lib/python3.8/site-packages (from gluonnlp>=0.6.0->kobert==0.1.2) (1.21.4)\n",
      "Requirement already satisfied: packaging in /home/team9/.local/lib/python3.8/site-packages (from gluonnlp>=0.6.0->kobert==0.1.2) (21.3)\n",
      "Requirement already satisfied: cython in /home/team9/.local/lib/python3.8/site-packages (from gluonnlp>=0.6.0->kobert==0.1.2) (0.29.25)\n",
      "Requirement already satisfied: requests<3,>=2.20.0 in /usr/lib/python3/dist-packages (from mxnet>=1.4.0->kobert==0.1.2) (2.22.0)\n",
      "Requirement already satisfied: graphviz<0.9.0,>=0.8.1 in /home/team9/.local/lib/python3.8/site-packages (from mxnet>=1.4.0->kobert==0.1.2) (0.8.4)\n",
      "Requirement already satisfied: flatbuffers in /home/team9/.local/lib/python3.8/site-packages (from onnxruntime>=0.3.0->kobert==0.1.2) (2.0)\n",
      "Requirement already satisfied: protobuf in /usr/lib/python3/dist-packages (from onnxruntime>=0.3.0->kobert==0.1.2) (3.6.1)\n",
      "Requirement already satisfied: typing-extensions in /home/team9/.local/lib/python3.8/site-packages (from torch>=1.7.0->kobert==0.1.2) (4.0.1)\n",
      "Requirement already satisfied: sacremoses in /home/team9/.local/lib/python3.8/site-packages (from transformers>=4.8.1->kobert==0.1.2) (0.0.46)\n",
      "Requirement already satisfied: tqdm>=4.27 in /home/team9/.local/lib/python3.8/site-packages (from transformers>=4.8.1->kobert==0.1.2) (4.62.3)\n",
      "Requirement already satisfied: filelock in /home/team9/.local/lib/python3.8/site-packages (from transformers>=4.8.1->kobert==0.1.2) (3.4.0)\n",
      "Collecting tokenizers<0.11,>=0.10.1\n",
      "  Using cached tokenizers-0.10.3-cp38-cp38-manylinux_2_5_x86_64.manylinux1_x86_64.manylinux_2_12_x86_64.manylinux2010_x86_64.whl (3.3 MB)\n",
      "Requirement already satisfied: pyyaml>=5.1 in /usr/lib/python3/dist-packages (from transformers>=4.8.1->kobert==0.1.2) (5.3.1)\n",
      "Requirement already satisfied: huggingface-hub<1.0,>=0.1.0 in /home/team9/.local/lib/python3.8/site-packages (from transformers>=4.8.1->kobert==0.1.2) (0.2.1)\n",
      "Requirement already satisfied: regex!=2019.12.17 in /home/team9/.local/lib/python3.8/site-packages (from transformers>=4.8.1->kobert==0.1.2) (2021.11.10)\n",
      "Requirement already satisfied: pyparsing!=3.0.5,>=2.0.2 in /home/team9/.local/lib/python3.8/site-packages (from packaging->gluonnlp>=0.6.0->kobert==0.1.2) (3.0.6)\n",
      "Requirement already satisfied: joblib in /home/team9/.local/lib/python3.8/site-packages (from sacremoses->transformers>=4.8.1->kobert==0.1.2) (1.1.0)\n",
      "Requirement already satisfied: click in /usr/lib/python3/dist-packages (from sacremoses->transformers>=4.8.1->kobert==0.1.2) (7.0)\n",
      "Requirement already satisfied: six in /usr/lib/python3/dist-packages (from sacremoses->transformers>=4.8.1->kobert==0.1.2) (1.14.0)\n",
      "Building wheels for collected packages: kobert\n",
      "  Building wheel for kobert (setup.py) ... \u001b[?25ldone\n",
      "\u001b[?25h  Created wheel for kobert: filename=kobert-0.1.2-py3-none-any.whl size=13125 sha256=847b3f117c5af4a0447b90782f7e536d588ef528d1c555a48bd669587c2d48af\n",
      "  Stored in directory: /tmp/pip-ephem-wheel-cache-sgswjoop/wheels/bf/5f/74/81bf3a1332130eb6629ecf58876a8746b77021e7d7b0638e91\n",
      "Successfully built kobert\n",
      "Installing collected packages: tokenizers, transformers\n",
      "  Attempting uninstall: tokenizers\n",
      "    Found existing installation: tokenizers 0.8.1rc1\n",
      "    Uninstalling tokenizers-0.8.1rc1:\n",
      "      Successfully uninstalled tokenizers-0.8.1rc1\n",
      "  Attempting uninstall: transformers\n",
      "    Found existing installation: transformers 3.0.2\n",
      "    Uninstalling transformers-3.0.2:\n",
      "      Successfully uninstalled transformers-3.0.2\n",
      "Successfully installed tokenizers-0.10.3 transformers-4.13.0\n"
     ]
    }
   ],
   "source": [
    "# 라이브러리 설치 2\n",
    "!pip install git+https://git@github.com/SKTBrain/KoBERT.git@master"
   ]
  },
  {
   "cell_type": "markdown",
   "metadata": {},
   "source": [
    "# 임포트"
   ]
  },
  {
   "cell_type": "code",
   "execution_count": 3,
   "metadata": {},
   "outputs": [],
   "source": [
    "# 라이브러리 임포트\n",
    "import torch\n",
    "from torch import nn\n",
    "from torch.utils.data import Dataset, DataLoader\n",
    "import gluonnlp as nlp\n",
    "import numpy as np\n",
    "from tqdm import tqdm, notebook\n",
    "from kobert.utils import get_tokenizer\n",
    "from kobert.pytorch_kobert import get_pytorch_kobert_model\n",
    "from transformers import AdamW\n",
    "from transformers.optimization import get_cosine_schedule_with_warmup\n",
    "from transformers import BertTokenizer, AutoTokenizer, BertModel, BertConfig, AutoModel, AdamW\n",
    "import pandas as pd\n",
    "from sklearn import metrics"
   ]
  },
  {
   "cell_type": "code",
   "execution_count": 4,
   "metadata": {},
   "outputs": [],
   "source": [
    "from transformers import AdamW\n",
    "from transformers.optimization import get_cosine_schedule_with_warmup"
   ]
  },
  {
   "cell_type": "markdown",
   "metadata": {},
   "source": [
    "# 데이터 전처리"
   ]
  },
  {
   "cell_type": "markdown",
   "metadata": {},
   "source": [
    "앞 단계에서 레이블링을 마친 학습 데이터와,\n",
    "koBert가 사용하는 !!!TSV:Tab Separated Value!!!이 필요함\n",
    "  \n",
    "학습 데이터를 tsv로 변환해서 두 파일을 모두 사용할것임\n",
    "\n",
    "요약\n",
    "1. 학습데이터.csv             letter_mulit_training.csv\n",
    "2. 학습데이터를.tsv 필요       letter_multi_training.txt(tsv파일은 .txt로도 인식가능)"
   ]
  },
  {
   "cell_type": "code",
   "execution_count": 8,
   "metadata": {},
   "outputs": [],
   "source": [
    "letter_data = pd.read_csv('letter_keyword.csv')"
   ]
  },
  {
   "attachments": {
    "image.png": {
     "image/png": "[encoded data removed]"
    }
   },
   "cell_type": "markdown",
   "metadata": {},
   "source": [
    "![image.png](attachment:image.png)"
   ]
  },
  {
   "cell_type": "code",
   "execution_count": 4,
   "metadata": {},
   "outputs": [],
   "source": [
    "def text_clearing(text):\n",
    "    text = text.replace(\"<br>\", \"\")\n",
    "    \n",
    "    return text\n",
    "\n",
    "letter_data['contents'] = letter_data['contents'].apply(text_clearing)"
   ]
  },
  {
   "cell_type": "code",
   "execution_count": 5,
   "metadata": {},
   "outputs": [],
   "source": [
    "train_set = nlp.data.TSVDataset(\"letter_multi_training.txt\", field_indices=[1,2])"
   ]
  },
  {
   "cell_type": "markdown",
   "metadata": {},
   "source": [
    "# 데이터 셋 생성"
   ]
  },
  {
   "cell_type": "code",
   "execution_count": 6,
   "metadata": {},
   "outputs": [
    {
     "name": "stdout",
     "output_type": "stream",
     "text": [
      "using cached model\n",
      "using cached model\n"
     ]
    }
   ],
   "source": [
    "# 순정 버트 모델, 보캡을 코버트에서 가져옴\n",
    "bertmodel, vocab = get_pytorch_kobert_model(cachedir=\".cache\")"
   ]
  },
  {
   "cell_type": "code",
   "execution_count": 7,
   "metadata": {},
   "outputs": [
    {
     "name": "stdout",
     "output_type": "stream",
     "text": [
      "using cached model\n"
     ]
    }
   ],
   "source": [
    "MAX_LEN = 128          # 한 문장의 최대 크기\n",
    "TRAIN_BATCH_SIZE = 1   # 한번 학습 시킬때 사용할 데이터의 크기(학습률에 관계없음, 작을수록 학습 시간이 더 오래걸림)\n",
    "VALID_BATCH_SIZE = 16\n",
    "EPOCHS = 10            # 학습을 반복할 횟수\n",
    "LEARNING_RATE = 2e-5\n",
    "WARMUP_RATIO = 0.1     # 학습을 시작하기 전 하이퍼 파라미터의 값을 조정하기 위한 값\n",
    "\n",
    "tokenizer = get_tokenizer()\n",
    "tok = nlp.data.BERTSPTokenizer(tokenizer, vocab, lower=False) #버트 토크나이저\n",
    "\n",
    "device = torch.device(\"cuda\") #CPU, GPU "
   ]
  },
  {
   "cell_type": "code",
   "execution_count": 10,
   "metadata": {},
   "outputs": [],
   "source": [
    "target_cols = [col for col in letter_data.columns if col not in ['contents']]"
   ]
  },
  {
   "cell_type": "markdown",
   "metadata": {},
   "source": [
    "target_cols = ['희망', '사랑', '분노', '슬픔', '공포', '생각', '죽음', '자연', '가족', '시간', '신체', '집', '문학', '감각', '공간', '도시', '숫자'])"
   ]
  },
  {
   "attachments": {
    "image.png": {
     "image/png": "[encoded data removed]"
    }
   },
   "cell_type": "markdown",
   "metadata": {},
   "source": [
    "![image.png](attachment:image.png)  \n",
    "버트모델이 사용하는 인풋 데이터는 총 세가지,  \n",
    "1. 토큰 단위로 나뉘어진 문장, 문장의 시작을 표시하는 토큰 [CLS], 끝을 표시하는 토큰 [SEP]으로 감싸져있다  \n",
    "각 토큰을 매칭되는 숫자 값으로 바꾼 데이터 EX) 아버지 -> 10  밑의 코드에서 'ids'  \n",
    "각 토큰의 위치를 나타내는 데이터로 이루어짐  : 밑의 코드에서 'token_type_ids'  \n",
    "2. 토큰과 실제 데이터를 식별하기 위한 마스크\n",
    "[CLS],[SEP]등 식별 토큰과, 실제 문장의 토큰을 구별하기 위한 마스크 값,  \n",
    "실제 데이터는 1로, 식별 토큰은 0으로 구분 : 밑의 코드에서 'mask'"
   ]
  },
  {
   "cell_type": "code",
   "execution_count": 10,
   "metadata": {},
   "outputs": [],
   "source": [
    "class BERTDataset(Dataset):\n",
    "    def __init__(self, df, label_df, tokenizer, max_len):\n",
    "        self.df = df\n",
    "        self.max_len = max_len\n",
    "        self.tokenizer = tokenizer\n",
    "        self.targets = label_df[target_cols].values\n",
    "\n",
    "        transform = nlp.data.BERTSentenceTransform(tokenizer, max_seq_length = max_len,\n",
    "                                               pad=True, pair=False)\n",
    "        self.sentences = [transform([i[0]]) for i in df]\n",
    "        \n",
    "    def __len__(self):\n",
    "        return len(self.df)\n",
    "        \n",
    "    #마스크 설정\n",
    "    def gen_attention_mask(self, token_ids, valid_length):\n",
    "        attention_mask = torch.zeros_like(token_ids)\n",
    "        for i in range(valid_length):\n",
    "            attention_mask[i] = 1\n",
    "        return attention_mask.float()\n",
    "\n",
    "    def __getitem__(self, i):\n",
    "        ids = torch.tensor(self.sentences[i][0], dtype=torch.long)\n",
    "        valid_length = int(self.sentences[i][1])\n",
    "        attention_mask = self.gen_attention_mask(ids, valid_length)\n",
    "        \n",
    "        return {\n",
    "            'ids': ids,\n",
    "            'mask': attention_mask,\n",
    "            'token_type_ids' : torch.tensor(self.sentences[i][2], dtype=torch.long),\n",
    "            'targets': torch.tensor(self.targets[i-1], dtype=torch.float)\n",
    "        }\n",
    "    \n",
    "    #targets은 정답 레이블"
   ]
  },
  {
   "cell_type": "code",
   "execution_count": 11,
   "metadata": {},
   "outputs": [],
   "source": [
    "train_dataset = BERTDataset(train_set, letter_data, tok, MAX_LEN)"
   ]
  },
  {
   "cell_type": "code",
   "execution_count": 12,
   "metadata": {},
   "outputs": [],
   "source": [
    "train_loader = DataLoader(train_dataset, batch_size=TRAIN_BATCH_SIZE, \n",
    "                          num_workers=4)"
   ]
  },
  {
   "cell_type": "markdown",
   "metadata": {},
   "source": [
    "# 모델 생성 클래스"
   ]
  },
  {
   "cell_type": "code",
   "execution_count": 13,
   "metadata": {},
   "outputs": [],
   "source": [
    "import transformers\n",
    "\n",
    "class BERTClassifier(nn.Module):\n",
    "    def __init__(self,\n",
    "                 bert,\n",
    "                 hidden_size = 768, # 히든 레이어 개수\n",
    "                 num_classes=17, # 출력할 클래스 개수\n",
    "                 dr_rate=None,\n",
    "                 params=None):\n",
    "        super(BERTClassifier, self).__init__()\n",
    "        self.bert = bert\n",
    "        self.dr_rate = dr_rate\n",
    "                 \n",
    "        self.classifier = nn.Linear(hidden_size , num_classes)\n",
    "        \n",
    "        if dr_rate:\n",
    "            self.dropout = nn.Dropout(p=dr_rate)\n",
    "\n",
    "    def forward(self, token_ids, attention_mask, segment_ids):\n",
    "        _, pooler = self.bert(input_ids = token_ids, token_type_ids = segment_ids.long(), attention_mask = attention_mask.float().to(token_ids.device))\n",
    "\n",
    "        if self.dr_rate:\n",
    "            out = self.dropout(pooler)\n",
    "        return self.classifier(out)"
   ]
  },
  {
   "cell_type": "code",
   "execution_count": 14,
   "metadata": {},
   "outputs": [],
   "source": [
    "model = BERTClassifier(bertmodel,  dr_rate=0.1).to(device)"
   ]
  },
  {
   "cell_type": "code",
   "execution_count": 15,
   "metadata": {},
   "outputs": [],
   "source": [
    "# Prepare optimizer and schedule (linear warmup and decay)\n",
    "no_decay = ['bias', 'LayerNorm.weight']\n",
    "optimizer_grouped_parameters = [\n",
    "    {'params': [p for n, p in model.named_parameters() if not any(nd in n for nd in no_decay)], 'weight_decay': 0.01},\n",
    "    {'params': [p for n, p in model.named_parameters() if any(nd in n for nd in no_decay)], 'weight_decay': 0.0}\n",
    "]"
   ]
  },
  {
   "cell_type": "code",
   "execution_count": 16,
   "metadata": {},
   "outputs": [],
   "source": [
    "optimizer = AdamW(optimizer_grouped_parameters, lr=LEARNING_RATE)\n",
    "loss_fn = nn.CrossEntropyLoss()"
   ]
  },
  {
   "cell_type": "code",
   "execution_count": 17,
   "metadata": {},
   "outputs": [],
   "source": [
    "t_total = len(train_loader) * EPOCHS\n",
    "warmup_step = int(t_total * WARMUP_RATIO)"
   ]
  },
  {
   "cell_type": "code",
   "execution_count": 18,
   "metadata": {},
   "outputs": [],
   "source": [
    "scheduler = get_cosine_schedule_with_warmup(optimizer, num_warmup_steps=warmup_step, num_training_steps=t_total)"
   ]
  },
  {
   "cell_type": "code",
   "execution_count": 19,
   "metadata": {},
   "outputs": [],
   "source": [
    "def calc_accuracy(X,Y):\n",
    "    max_vals, max_indices = torch.max(X, 1)\n",
    "    train_acc = (max_indices == Y).sum().data.cpu().numpy()/max_indices.size()[0]\n",
    "    return train_acc"
   ]
  },
  {
   "cell_type": "markdown",
   "metadata": {},
   "source": [
    "# 모델 학습"
   ]
  },
  {
   "cell_type": "code",
   "execution_count": 20,
   "metadata": {},
   "outputs": [],
   "source": [
    "def train(epoch):\n",
    "    model.train()\n",
    "    for _, data in tqdm(enumerate(train_loader, 0), total=len(train_loader)):\n",
    "        ids = data['ids'].to(device, dtype = torch.long)\n",
    "        token_type_ids = data['token_type_ids'].to(device, dtype = torch.long)\n",
    "        mask = data['mask'].to(device, dtype = torch.long)\n",
    "        targets = data['targets'].to(device, dtype = torch.float)\n",
    "\n",
    "        outputs = model(ids, mask, token_type_ids)\n",
    "        loss = loss_fn(outputs, targets)\n",
    "        if _%500 == 0:\n",
    "            print(f'Epoch: {epoch}, Loss:  {loss.item()}')\n",
    "        \n",
    "            loss.backward()\n",
    "            optimizer.step()\n",
    "            optimizer.zero_grad()"
   ]
  },
  {
   "cell_type": "code",
   "execution_count": 21,
   "metadata": {},
   "outputs": [
    {
     "name": "stderr",
     "output_type": "stream",
     "text": [
      "  2%|▏         | 9/376 [00:00<00:07, 48.94it/s]"
     ]
    },
    {
     "name": "stdout",
     "output_type": "stream",
     "text": [
      "Epoch: 0, Loss:  5.912759780883789\n"
     ]
    },
    {
     "name": "stderr",
     "output_type": "stream",
     "text": [
      "100%|██████████| 376/376 [00:04<00:00, 88.21it/s]\n",
      "  4%|▍         | 15/376 [00:00<00:04, 75.50it/s]"
     ]
    },
    {
     "name": "stdout",
     "output_type": "stream",
     "text": [
      "Epoch: 1, Loss:  5.726377964019775\n"
     ]
    },
    {
     "name": "stderr",
     "output_type": "stream",
     "text": [
      "100%|██████████| 376/376 [00:04<00:00, 89.29it/s]\n",
      "  4%|▎         | 14/376 [00:00<00:04, 72.55it/s]"
     ]
    },
    {
     "name": "stdout",
     "output_type": "stream",
     "text": [
      "Epoch: 2, Loss:  5.710896015167236\n"
     ]
    },
    {
     "name": "stderr",
     "output_type": "stream",
     "text": [
      "100%|██████████| 376/376 [00:04<00:00, 88.82it/s]\n",
      "  4%|▍         | 15/376 [00:00<00:04, 76.05it/s]"
     ]
    },
    {
     "name": "stdout",
     "output_type": "stream",
     "text": [
      "Epoch: 3, Loss:  5.863445281982422\n"
     ]
    },
    {
     "name": "stderr",
     "output_type": "stream",
     "text": [
      "100%|██████████| 376/376 [00:04<00:00, 88.23it/s]\n",
      "  4%|▍         | 15/376 [00:00<00:04, 75.00it/s]"
     ]
    },
    {
     "name": "stdout",
     "output_type": "stream",
     "text": [
      "Epoch: 4, Loss:  5.843527793884277\n"
     ]
    },
    {
     "name": "stderr",
     "output_type": "stream",
     "text": [
      "100%|██████████| 376/376 [00:04<00:00, 89.55it/s]\n",
      "  4%|▎         | 14/376 [00:00<00:04, 73.15it/s]"
     ]
    },
    {
     "name": "stdout",
     "output_type": "stream",
     "text": [
      "Epoch: 5, Loss:  5.771371364593506\n"
     ]
    },
    {
     "name": "stderr",
     "output_type": "stream",
     "text": [
      "100%|██████████| 376/376 [00:04<00:00, 89.39it/s]\n",
      "  4%|▍         | 15/376 [00:00<00:04, 75.03it/s]"
     ]
    },
    {
     "name": "stdout",
     "output_type": "stream",
     "text": [
      "Epoch: 6, Loss:  5.700072288513184\n"
     ]
    },
    {
     "name": "stderr",
     "output_type": "stream",
     "text": [
      "100%|██████████| 376/376 [00:04<00:00, 89.56it/s]\n",
      "  4%|▍         | 15/376 [00:00<00:04, 75.70it/s]"
     ]
    },
    {
     "name": "stdout",
     "output_type": "stream",
     "text": [
      "Epoch: 7, Loss:  5.736584663391113\n"
     ]
    },
    {
     "name": "stderr",
     "output_type": "stream",
     "text": [
      "100%|██████████| 376/376 [00:04<00:00, 89.14it/s]\n",
      "  4%|▍         | 15/376 [00:00<00:04, 75.41it/s]"
     ]
    },
    {
     "name": "stdout",
     "output_type": "stream",
     "text": [
      "Epoch: 8, Loss:  5.804800987243652\n"
     ]
    },
    {
     "name": "stderr",
     "output_type": "stream",
     "text": [
      "100%|██████████| 376/376 [00:04<00:00, 89.21it/s]\n",
      "  4%|▍         | 15/376 [00:00<00:04, 74.46it/s]"
     ]
    },
    {
     "name": "stdout",
     "output_type": "stream",
     "text": [
      "Epoch: 9, Loss:  5.571760654449463\n"
     ]
    },
    {
     "name": "stderr",
     "output_type": "stream",
     "text": [
      "100%|██████████| 376/376 [00:04<00:00, 89.14it/s]\n"
     ]
    }
   ],
   "source": [
    "for epoch in range(EPOCHS):\n",
    "    train(epoch)"
   ]
  },
  {
   "cell_type": "markdown",
   "metadata": {},
   "source": [
    "# 모델 검사"
   ]
  },
  {
   "cell_type": "code",
   "execution_count": 22,
   "metadata": {},
   "outputs": [],
   "source": [
    "def validation():\n",
    "    model.eval()\n",
    "    fin_targets=[]\n",
    "    fin_outputs=[]\n",
    "    with torch.no_grad():\n",
    "        for _, data in enumerate(train_loader, 0):\n",
    "            ids = data['ids'].to(device, dtype = torch.long)\n",
    "            token_type_ids = data['token_type_ids'].to(device, dtype = torch.long)\n",
    "            mask = data['mask'].to(device, dtype = torch.long)\n",
    "            targets = data['targets'].to(device, dtype = torch.float)\n",
    "\n",
    "            outputs = model(ids, mask, token_type_ids)\n",
    "            \n",
    "            fin_targets.extend(targets.cpu().detach().numpy().tolist())\n",
    "            fin_outputs.extend(torch.sigmoid(outputs).cpu().detach().numpy().tolist())\n",
    "    return fin_outputs, fin_targets"
   ]
  },
  {
   "cell_type": "code",
   "execution_count": 23,
   "metadata": {},
   "outputs": [
    {
     "name": "stdout",
     "output_type": "stream",
     "text": [
      "Accuracy Score = 0\n",
      "F1 Score (Micro) = 0.31677136874167144\n",
      "F1 Score (Macro) = 0.20255532961909517\n",
      "[[ True False  True ...  True False  True]\n",
      " [False  True  True ...  True False  True]\n",
      " [False  True  True ...  True False  True]\n",
      " ...\n",
      " [False False  True ...  True False  True]\n",
      " [False  True  True ...  True False  True]\n",
      " [False False  True ...  True False  True]]\n"
     ]
    }
   ],
   "source": [
    "outputs, targets = validation()\n",
    "outputs = np.array(outputs) >= 0.5\n",
    "accuracy = metrics.accuracy_score(targets, outputs,  normalize=False )\n",
    "f1_score_micro = metrics.f1_score(targets, outputs, average='micro')\n",
    "f1_score_macro = metrics.f1_score(targets, outputs, average='macro')\n",
    "print(f\"Accuracy Score = {accuracy}\")\n",
    "print(f\"F1 Score (Micro) = {f1_score_micro}\")\n",
    "print(f\"F1 Score (Macro) = {f1_score_macro}\")\n",
    "\n",
    "# accuracy가 높아야 좋음"
   ]
  },
  {
   "cell_type": "markdown",
   "metadata": {},
   "source": [
    "# 모델 내보내기"
   ]
  },
  {
   "cell_type": "code",
   "execution_count": 28,
   "metadata": {},
   "outputs": [],
   "source": [
    "MODEL_NAME = \"model_k\"\n",
    "MODEL_SAVE_PATH = \"./\"+ MODEL_NAME\n",
    "\n",
    "\n",
    "# torch.save(model, MODEL_SAVE_PATH) 모델을 통으로 내보내기\n",
    "torch.save(model.state_dict(), MODEL_SAVE_PATH) # 모델 설정 정보만 내보내기"
   ]
  },
  {
   "cell_type": "markdown",
   "metadata": {},
   "source": [
    "# 재학습"
   ]
  },
  {
   "cell_type": "code",
   "execution_count": null,
   "metadata": {},
   "outputs": [],
   "source": [
    "\"\"\"\n",
    "    한번 학습한 모델을 더 학습하면 좋은 결과 나올수도..\n",
    "    \n",
    "    편지 데이터로 학습한뒤 시데이터로 학습(같은 클래스로 분류되어 있기 때문),\n",
    "    마지막으로 편지데이터 학습이 중요하기 때문에\n",
    "    편지 데이터로 두 세번더 학습 시켜주면 좋다고함\n",
    "\"\"\""
   ]
  },
  {
   "cell_type": "code",
   "execution_count": null,
   "metadata": {},
   "outputs": [],
   "source": [
    "# saved_model = torch.load(MODEL_SAVE_PATH) 모델을 통으로 내보냈을때\n",
    "\n",
    "# 모델 설정 정보만 내보냈을때\n",
    "saved_model, vocab = get_pytorch_kobert_model(cachedir=\".cache\") # 순정 버트 모델 가져옴\n",
    "saved_model.load_state_dict(torch.load(MODEL_SAVE_PATH)) # 순정 모델에 가져온 정보 저장\n",
    "saved_model = saved_model.cuda() #GPU\n",
    "\n",
    "# GUP에서 내보낸 모델 CPU에서 받을때\n",
    "# saved_model.load_state_dict(torch.load(MODEL_SAVE_PATH)), map_location=device)"
   ]
  },
  {
   "cell_type": "code",
   "execution_count": null,
   "metadata": {},
   "outputs": [],
   "source": [
    "new_data = pd.read_csv('')  #새로 학습 시킬 데이터 입력\n",
    "\n",
    "def text_clearing(text):\n",
    "    text = text.replace(\"<br>\", \"\")\n",
    "    \n",
    "    return text\n",
    "\n",
    "new_data['contents'] = new_data['contents'].apply(text_clearing)"
   ]
  },
  {
   "cell_type": "code",
   "execution_count": null,
   "metadata": {},
   "outputs": [],
   "source": [
    "train_set = nlp.data.TSVDataset(\"\", field_indices=[1,2]) #새로 학습 시킬 데이터 입력"
   ]
  },
  {
   "cell_type": "code",
   "execution_count": null,
   "metadata": {},
   "outputs": [],
   "source": [
    "saved_model = BERTClassifier(bertmodel,  dr_rate=0.5).to(device)"
   ]
  },
  {
   "cell_type": "code",
   "execution_count": null,
   "metadata": {},
   "outputs": [],
   "source": [
    "# MAX_LEN = 128\n",
    "# TRAIN_BATCH_SIZE = 1\n",
    "# VALID_BATCH_SIZE = 16\n",
    "# EPOCHS = 10\n",
    "# LEARNING_RATE = 2e-5\n",
    "# WARMUP_RATIO = 0.1"
   ]
  },
  {
   "cell_type": "code",
   "execution_count": null,
   "metadata": {},
   "outputs": [],
   "source": [
    "# 위에 train함수 써도 되는데 위로 올라가기 귀찮아서 복사해놓음\n",
    "def train2(epoch):\n",
    "    saved_model.train()\n",
    "    for _, data in tqdm(enumerate(train_loader, 0), total=len(train_loader)):\n",
    "        ids = data['ids'].to(device, dtype = torch.long)\n",
    "        token_type_ids = data['token_type_ids'].to(device, dtype = torch.long)\n",
    "        mask = data['mask'].to(device, dtype = torch.long)\n",
    "        targets = data['targets'].to(device, dtype = torch.float)\n",
    "\n",
    "        outputs = saved_model(ids, mask, token_type_ids)\n",
    "        loss = loss_fn(outputs, targets)\n",
    "        if _%500 == 0:\n",
    "            print(f'Epoch: {epoch}, Loss:  {loss.item()}')\n",
    "        \n",
    "            loss.backward()\n",
    "            optimizer.step()\n",
    "            optimizer.zero_grad()"
   ]
  },
  {
   "cell_type": "code",
   "execution_count": null,
   "metadata": {},
   "outputs": [],
   "source": [
    "for epoch in range(EPOCHS):\n",
    "    train2(epoch)"
   ]
  },
  {
   "cell_type": "code",
   "execution_count": null,
   "metadata": {},
   "outputs": [],
   "source": [
    "def validation2():\n",
    "    model2.eval()\n",
    "    fin_targets=[]\n",
    "    fin_outputs=[]\n",
    "    with torch.no_grad():\n",
    "        for _, data in enumerate(train_loader, 0):\n",
    "            ids = data['ids'].to(device, dtype = torch.long)\n",
    "            token_type_ids = data['token_type_ids'].to(device, dtype = torch.long)\n",
    "            mask = data['mask'].to(device, dtype = torch.long)\n",
    "            targets = data['targets'].to(device, dtype = torch.float)\n",
    "\n",
    "            outputs = model2(ids, mask, token_type_ids)\n",
    "            \n",
    "            fin_targets.extend(targets.cpu().detach().numpy().tolist())\n",
    "            fin_outputs.extend(torch.sigmoid(outputs).cpu().detach().numpy().tolist())\n",
    "    return fin_outputs, fin_targets"
   ]
  },
  {
   "cell_type": "code",
   "execution_count": null,
   "metadata": {},
   "outputs": [],
   "source": [
    "outputs, targets = validation2()\n",
    "outputs = np.array(outputs) >= 0.5\n",
    "accuracy = metrics.accuracy_score(targets, outputs)\n",
    "f1_score_micro = metrics.f1_score(targets, outputs, average='micro')\n",
    "f1_score_macro = metrics.f1_score(targets, outputs, average='macro')\n",
    "print(f\"Accuracy Score = {accuracy}\")\n",
    "print(f\"F1 Score (Micro) = {f1_score_micro}\")\n",
    "print(f\"F1 Score (Macro) = {f1_score_macro}\")"
   ]
  },
  {
   "cell_type": "markdown",
   "metadata": {},
   "source": [
    "# 메모리 정리"
   ]
  },
  {
   "cell_type": "code",
   "execution_count": null,
   "metadata": {},
   "outputs": [],
   "source": [
    "#용량이 없어서 학습이 안될때 한번씩 해주면 됨\n",
    "\n",
    "import gc\n",
    "\n",
    "gc.collect()\n",
    "torch.cuda.empty_cache()"
   ]
  },
  {
   "cell_type": "markdown",
   "metadata": {},
   "source": [
    "# 모델 사용"
   ]
  },
  {
   "cell_type": "code",
   "execution_count": null,
   "metadata": {},
   "outputs": [],
   "source": [
    "def predict(predict_sentence):\n",
    "    result_dataframe = pd.DataFrame(columns=target_cols)\n",
    "\n",
    "    data = [predict_sentence]\n",
    "\n",
    "    another_test = BERTDataset(data, letter_data, tok, MAX_LEN)\n",
    "    test_dataloader = DataLoader(another_test, batch_size=TRAIN_BATCH_SIZE, num_workers=4)\n",
    "\n",
    "    saved_model.eval() # 모델 변경 부분\n",
    "    for _, data in enumerate(test_dataloader, 0):\n",
    "        ids = data['ids'].to(device, dtype = torch.long)\n",
    "        token_type_ids = data['token_type_ids'].to(device, dtype = torch.long)\n",
    "        mask = data['mask'].to(device, dtype = torch.long)\n",
    "        \n",
    "        outputs = saved_model(ids, mask, token_type_ids)  # 모델 변경 부분\n",
    "        \n",
    "    result_dataframe.loc[0] = [i for i in outputs.tolist()[0]]\n",
    "    print(result_dataframe)"
   ]
  },
  {
   "cell_type": "code",
   "execution_count": null,
   "metadata": {},
   "outputs": [],
   "source": [
    "predict(\"엄마 뭐해 사랑해 행복해 내일보자\")"
   ]
  }
 ],
 "metadata": {
  "kernelspec": {
   "display_name": "Python 3",
   "language": "python",
   "name": "python3"
  },
  "language_info": {
   "codemirror_mode": {
    "name": "ipython",
    "version": 3
   },
   "file_extension": ".py",
   "mimetype": "text/x-python",
   "name": "python",
   "nbconvert_exporter": "python",
   "pygments_lexer": "ipython3",
   "version": "3.8.10"
  }
 },
 "nbformat": 4,
 "nbformat_minor": 4
}
