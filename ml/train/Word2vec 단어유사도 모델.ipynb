{
 "cells": [
  {
   "cell_type": "code",
   "execution_count": 1,
   "metadata": {},
   "outputs": [],
   "source": [
    "import pandas as pd\n",
    "import numpy as np\n",
    "\n",
    "import matplotlib.pyplot as plt\n",
    "%matplotlib inline\n",
    "\n",
    "import konlpy"
   ]
  },
  {
   "cell_type": "code",
   "execution_count": 2,
   "metadata": {},
   "outputs": [],
   "source": [
    "# data = pd.read_csv('poem_crawling_data1.csv')\n",
    "# poem = data\n",
    "\n",
    "# poem.head()"
   ]
  },
  {
   "cell_type": "markdown",
   "metadata": {},
   "source": [
    "## 전처리, 토큰화"
   ]
  },
  {
   "cell_type": "code",
   "execution_count": 3,
   "metadata": {},
   "outputs": [],
   "source": [
    "# stopwords = [\n",
    "#     '입니다', '합니다', '않아요', '않으리', '하여', '하니', '있듯', '아니라', '아니고', '되어야만',\n",
    "#     '되지요', '해야', '한다', '하리' '하는', '하지', '있습니다', '아니다', '든다', '하게', '있다', '있다는',\n",
    "#     '했다는', '있지는', '그게', '했다', '했던', '되어', '그것',\n",
    "#     '당신', '해요', '무엇', '내게', '내게는', '않습니다', '했으먄', '있기에', '하는', '바로', '나를', '갖지',\n",
    "#     '가는', '더욱', '있을', '느냐구요', '있으먄', '있기만', '들을', '하니까', '하면', '하기에', '무엇', '되시건', '돼요',\n",
    "#     '그대', '있어', '주므로', '이오', '주려', '건가', '모든', '있으니', '왔습니다', '것임', '있으며', '하노라고',\n",
    "#     '하죠', '주길', '였어요', '였답니다', '원했지요', '같은', '보아',\n",
    "#     '했습니다', '있는', '나도', '맡는다', '로써', '보여도', '여겼던', '보죠', '때문', '싫기', '하길', '하세요', '래야',\n",
    "#     '행여', '아는', '마는', '다른', '없는', '하는것은', '이릅니다', '있어', '없는', '없는가', '한다면', '않는다면',\n",
    "#     '않기', '대신', '하기', '됩니다', '하고자', '있는', '있건', '하소', '않게', '다음',\n",
    "#     '시오', '이겠지요', '알아야', '위해', '하다면', '이기만', '하신다면', '해주리라', '없을지도', '있겠지만', '해서만',\n",
    "#     '주세요', '마세요', '오직', '가장', '냅니다', '했었다고','되었나', '아닙니다', '진다는', '않으니', '마세요',\n",
    "#     '없다', '머는', '있으면', '봅니다', '아니래', '하는게', '아닌데', '있었습니다',\n",
    "    \n",
    "    \n",
    "#     '있다면', '아름다운', '그대', '사람', '내게', '싶습니다', '않는', '싶다', '사랑', '우리', '하나',\n",
    "#     '되고', '가고', '좋은', '된다', '만나고', '그런',\n",
    "#     '싶은', '사는', '않은',\n",
    "#     '작은', '많은', '있었다',\n",
    "#     '생각', '마음', '슬픔',\n",
    "#     '친구'\n",
    "# ]\n",
    "\n",
    "\n",
    "# stopwords = [\n",
    "#     '하다', '있다', '것', '내', '나', '그', '않다', '수', '없다', '싶다', '이다',\n",
    "#     '되다', '날', '말', '이', '더', '때문', '그렇다', '알', '위', '곳', '일', '저', '네', '못', '줄' \n",
    "# ]"
   ]
  },
  {
   "cell_type": "code",
   "execution_count": 4,
   "metadata": {},
   "outputs": [],
   "source": [
    "# def tokenize(text):\n",
    "#     from konlpy.tag import Okt\n",
    "#     tagger = Okt()\n",
    "    \n",
    "#     text = text.replace(\"<br>\", \" \")\n",
    "#     okt_pos = tagger.pos(text, norm=True, stem=True)\n",
    "#     pure_words = [word for word, hts in okt_pos if hts in ['Noun', 'Adjective', 'Verb']] # 형태소 명사, 동사, 형용사만 사용\n",
    "    \n",
    "#     return pure_words\n",
    "\n",
    "# def nonemeaning(text):\n",
    "#     text = [word for word in text if word not in stopwords]\n",
    "    \n",
    "#     return text\n",
    "\n",
    "# # 시 내용 가져오기\n",
    "# contents = poem['content']\n",
    "# contents = contents.apply(tokenize)\n",
    "# contents = contents.apply(nonemeaning)"
   ]
  },
  {
   "cell_type": "code",
   "execution_count": 5,
   "metadata": {},
   "outputs": [],
   "source": [
    "# contents.head()"
   ]
  },
  {
   "cell_type": "markdown",
   "metadata": {},
   "source": [
    "## Word2vec 모델 학습"
   ]
  },
  {
   "cell_type": "code",
   "execution_count": 6,
   "metadata": {},
   "outputs": [],
   "source": [
    "# import logging\n",
    "# logging.basicConfig(\n",
    "#     format='%(asctime)s : %(levelname)s : %(message)s', \n",
    "#     level=logging.INFO)"
   ]
  },
  {
   "cell_type": "code",
   "execution_count": 7,
   "metadata": {},
   "outputs": [],
   "source": [
    "# # 초기화 및 모델 학습\n",
    "# from gensim.models import word2vec\n",
    "\n",
    "# # 모델 학습\n",
    "# model = word2vec.Word2Vec(contents, min_count=1)\n",
    "\n",
    "# model"
   ]
  },
  {
   "cell_type": "code",
   "execution_count": 8,
   "metadata": {},
   "outputs": [],
   "source": [
    "# # 단어 사전 수\n",
    "# len(model.wv)"
   ]
  },
  {
   "cell_type": "code",
   "execution_count": 9,
   "metadata": {},
   "outputs": [],
   "source": [
    "# # 단어 사전에서 상위 10개만 보기\n",
    "# vocab = list(model.wv.key_to_index.keys())\n",
    "# vocab[:10]"
   ]
  },
  {
   "cell_type": "code",
   "execution_count": 10,
   "metadata": {},
   "outputs": [],
   "source": [
    "# # Counter로 자주 등장하는 단어 보기\n",
    "# from collections import Counter\n",
    "# dict(Counter(vocab).most_common(100))"
   ]
  },
  {
   "cell_type": "code",
   "execution_count": 11,
   "metadata": {},
   "outputs": [],
   "source": [
    "# model.wv['가을']"
   ]
  },
  {
   "cell_type": "code",
   "execution_count": 12,
   "metadata": {},
   "outputs": [],
   "source": [
    "# model.wv.most_similar('사랑')"
   ]
  },
  {
   "cell_type": "code",
   "execution_count": 13,
   "metadata": {
    "scrolled": true
   },
   "outputs": [],
   "source": [
    "# model.wv.similarity('가을', '가게')"
   ]
  },
  {
   "cell_type": "code",
   "execution_count": 14,
   "metadata": {},
   "outputs": [],
   "source": [
    "#!pip install --upgrade gensim==3.8.3"
   ]
  },
  {
   "cell_type": "markdown",
   "metadata": {},
   "source": [
    "# 외부 모델 불러오기"
   ]
  },
  {
   "cell_type": "code",
   "execution_count": 17,
   "metadata": {},
   "outputs": [],
   "source": [
    "import gensim\n",
    "WORD2VEC_PATH = 'D:/New folder/ko/ko.bin'\n",
    "\n",
    "ko_model = gensim.models.Word2Vec.load(WORD2VEC_PATH)\n"
   ]
  },
  {
   "cell_type": "code",
   "execution_count": 35,
   "metadata": {},
   "outputs": [
    {
     "name": "stdout",
     "output_type": "stream",
     "text": [
      "0.023836078\n"
     ]
    }
   ],
   "source": [
    "try:\n",
    "    a = ko_model.wv.similarity('가을', '자연')\n",
    "    print(a)\n",
    "except KeyError:\n",
    "    print(\"A\")"
   ]
  },
  {
   "cell_type": "code",
   "execution_count": null,
   "metadata": {},
   "outputs": [],
   "source": []
  },
  {
   "cell_type": "code",
   "execution_count": null,
   "metadata": {},
   "outputs": [],
   "source": []
  }
 ],
 "metadata": {
  "kernelspec": {
   "display_name": "Python 3",
   "language": "python",
   "name": "python3"
  },
  "language_info": {
   "codemirror_mode": {
    "name": "ipython",
    "version": 3
   },
   "file_extension": ".py",
   "mimetype": "text/x-python",
   "name": "python",
   "nbconvert_exporter": "python",
   "pygments_lexer": "ipython3",
   "version": "3.8.3"
  }
 },
 "nbformat": 4,
 "nbformat_minor": 4
}
