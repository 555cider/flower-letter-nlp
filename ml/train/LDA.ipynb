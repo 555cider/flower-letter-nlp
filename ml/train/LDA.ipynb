{
 "cells": [
  {
   "cell_type": "markdown",
   "metadata": {},
   "source": [
    "### LDA 모델 시도"
   ]
  },
  {
   "cell_type": "code",
   "execution_count": 1,
   "metadata": {},
   "outputs": [
    {
     "data": {
      "text/html": [
       "<div>\n",
       "<style scoped>\n",
       "    .dataframe tbody tr th:only-of-type {\n",
       "        vertical-align: middle;\n",
       "    }\n",
       "\n",
       "    .dataframe tbody tr th {\n",
       "        vertical-align: top;\n",
       "    }\n",
       "\n",
       "    .dataframe thead th {\n",
       "        text-align: right;\n",
       "    }\n",
       "</style>\n",
       "<table border=\"1\" class=\"dataframe\">\n",
       "  <thead>\n",
       "    <tr style=\"text-align: right;\">\n",
       "      <th></th>\n",
       "      <th>author</th>\n",
       "      <th>title</th>\n",
       "      <th>content</th>\n",
       "    </tr>\n",
       "  </thead>\n",
       "  <tbody>\n",
       "    <tr>\n",
       "      <th>0</th>\n",
       "      <td>이순</td>\n",
       "      <td>가을에는 이런 사람이 그립다</td>\n",
       "      <td>수평선이나 지평선 보다&lt;br&gt;더 깊고 아득한 눈빛으로&lt;br&gt;세상의 그리움 다 깨워서...</td>\n",
       "    </tr>\n",
       "    <tr>\n",
       "      <th>1</th>\n",
       "      <td>문정희</td>\n",
       "      <td>가을 노트</td>\n",
       "      <td>&lt;br&gt;&lt;br&gt;&lt;br&gt;그대 떠나간 후&lt;br&gt;나의 가을은&lt;br&gt;조금만 건드려도&lt;br&gt;...</td>\n",
       "    </tr>\n",
       "    <tr>\n",
       "      <th>2</th>\n",
       "      <td>이순</td>\n",
       "      <td>가을비 오는 날은</td>\n",
       "      <td>&lt;br&gt;자정이 되어 간신히 그치는 비&lt;br&gt;간신히 버리는 그리움&lt;br&gt;그동안 너무 ...</td>\n",
       "    </tr>\n",
       "    <tr>\n",
       "      <th>3</th>\n",
       "      <td>이성선</td>\n",
       "      <td>가을 편지</td>\n",
       "      <td>&lt;br&gt;잎이 떨어지고 있습니다&lt;br&gt;원고지처럼 하늘이 한 칸씩&lt;br&gt;비어 가고 있습...</td>\n",
       "    </tr>\n",
       "    <tr>\n",
       "      <th>4</th>\n",
       "      <td>박제영</td>\n",
       "      <td>가을에는</td>\n",
       "      <td>가을에는 잠시 여행을 떠날 일이다&lt;br&gt;그리 수선스러운 준비는 하지 말고&lt;br&gt;그리...</td>\n",
       "    </tr>\n",
       "  </tbody>\n",
       "</table>\n",
       "</div>"
      ],
      "text/plain": [
       "  author            title                                            content\n",
       "0     이순  가을에는 이런 사람이 그립다  수평선이나 지평선 보다<br>더 깊고 아득한 눈빛으로<br>세상의 그리움 다 깨워서...\n",
       "1    문정희            가을 노트  <br><br><br>그대 떠나간 후<br>나의 가을은<br>조금만 건드려도<br>...\n",
       "2     이순        가을비 오는 날은  <br>자정이 되어 간신히 그치는 비<br>간신히 버리는 그리움<br>그동안 너무 ...\n",
       "3    이성선            가을 편지  <br>잎이 떨어지고 있습니다<br>원고지처럼 하늘이 한 칸씩<br>비어 가고 있습...\n",
       "4    박제영             가을에는  가을에는 잠시 여행을 떠날 일이다<br>그리 수선스러운 준비는 하지 말고<br>그리..."
      ]
     },
     "execution_count": 1,
     "metadata": {},
     "output_type": "execute_result"
    }
   ],
   "source": [
    "import pandas as pd\n",
    "\n",
    "# 시 데이터 불러오기\n",
    "poem = pd.read_csv(\"../data/nlp_poem.csv\", index_col=False)\n",
    "poem.head()"
   ]
  },
  {
   "cell_type": "code",
   "execution_count": 2,
   "metadata": {},
   "outputs": [],
   "source": [
    "# 불용어\n",
    "stopwords = [\n",
    "    '하다', '이다', '아니다', '않다', '되다', '있다', '없다', '싶다', '알다', '보다', '마다', '같다', '지다', '가다',\n",
    "    '나', '그대', '당신', '우리', '이', '그', '저', '무엇', '이런', '저런', '그런', '것',\n",
    "    '하나', '모든', '때문', '다음', '위해', '사람', '줄', '못', '그리다'\n",
    "]"
   ]
  },
  {
   "cell_type": "code",
   "execution_count": 3,
   "metadata": {},
   "outputs": [],
   "source": [
    "from konlpy.tag import Okt\n",
    "\n",
    "# 토큰화 함수\n",
    "def tokenize(text):\n",
    "    okt = Okt()\n",
    "\n",
    "    # 줄바꿈(<br>) 제거\n",
    "    text = text.replace(\"<br>\", \" \")\n",
    "\n",
    "    # 형태소(품사) 분석 - 정규화有, 어간추출有\n",
    "    okt_pos = okt.pos(text, norm=True, stem=True)\n",
    "\n",
    "    # 특정 품사(명사, 동사, 형용사)만 사용\n",
    "    lst_word = [word for word, pos in okt_pos if pos in [\"Noun\", \"Adjective\", \"Verb\"]]\n",
    "\n",
    "    # 불용어 제거\n",
    "    lst_word = [word for word in lst_word if word not in stopwords]\n",
    "\n",
    "    return lst_word"
   ]
  },
  {
   "cell_type": "code",
   "execution_count": 4,
   "metadata": {},
   "outputs": [
    {
     "data": {
      "text/plain": [
       "0    [수평선, 지평선, 더, 깊다, 아득하다, 눈빛, 세상, 그리움, 깨우다, 다른, ...\n",
       "1    [떠나가다, 후, 가을, 조금, 건드리다, 우수수, 몸, 떨다, 다한, 말, 다한,...\n",
       "2    [자정, 되어다, 그치다, 비, 버리다, 그리움, 그동안, 많다, 버리다, 허다, ...\n",
       "3    [잎, 떨어지다, 원고지, 하늘, 칸, 비어, 빈, 곳, 맑은, 영혼, 잉크, 물,...\n",
       "4    [가을, 잠시, 여행, 떠나다, 일이, 수선스럽다, 준비, 가깝다, 멀다, 데, 가...\n",
       "Name: content, dtype: object"
      ]
     },
     "execution_count": 4,
     "metadata": {},
     "output_type": "execute_result"
    }
   ],
   "source": [
    "# 시 내용에 토큰화 적용\n",
    "content = poem[\"content\"]\n",
    "content_tokens = content.apply(tokenize)\n",
    "content_tokens.head()"
   ]
  },
  {
   "cell_type": "code",
   "execution_count": 5,
   "metadata": {},
   "outputs": [
    {
     "name": "stderr",
     "output_type": "stream",
     "text": [
      "C:\\Programming\\Miniconda\\miniconda3\\envs\\nlp3\\lib\\site-packages\\gensim\\similarities\\__init__.py:15: UserWarning: The gensim.similarities.levenshtein submodule is disabled, because the optional Levenshtein package <https://pypi.org/project/python-Levenshtein/> is unavailable. Install Levenhstein (e.g. `pip install python-Levenshtein`) to suppress this warning.\n",
      "  warnings.warn(msg)\n"
     ]
    }
   ],
   "source": [
    "from gensim import corpora\n",
    "\n",
    "dictionary = corpora.Dictionary(content_tokens)\n",
    "corpus = [dictionary.doc2bow(text) for text in content_tokens]"
   ]
  },
  {
   "cell_type": "code",
   "execution_count": 6,
   "metadata": {},
   "outputs": [
    {
     "name": "stdout",
     "output_type": "stream",
     "text": [
      "(0, '0.012*\"발자국\" + 0.010*\"새\" + 0.010*\"건\" + 0.010*\"허공\"')\n",
      "(1, '0.081*\"사랑\" + 0.036*\"너\" + 0.022*\"더\" + 0.021*\"모르다\"')\n",
      "(2, '0.058*\"왼발\" + 0.025*\"또한\" + 0.025*\"방법\" + 0.022*\"왕\"')\n",
      "(3, '0.042*\"말\" + 0.030*\"묻다\" + 0.016*\"나무\" + 0.015*\"길\"')\n",
      "(4, '0.015*\"시간\" + 0.013*\"거리\" + 0.013*\"읽다\" + 0.011*\"점\"')\n",
      "(5, '0.044*\"복면\" + 0.027*\"가면\" + 0.024*\"세상\" + 0.016*\"움\"')\n",
      "(6, '0.019*\"새\" + 0.018*\"속\" + 0.016*\"넣다\" + 0.015*\"되어다\"')\n",
      "(7, '0.017*\"계단\" + 0.013*\"떨어지다\" + 0.012*\"나오다\" + 0.011*\"걸다\"')\n",
      "(8, '0.044*\"길\" + 0.032*\"글자\" + 0.021*\"밟다\" + 0.018*\"시\"')\n",
      "(9, '0.025*\"돼다\" + 0.018*\"알\" + 0.018*\"달\" + 0.017*\"구슬\"')\n",
      "(10, '0.027*\"곳\" + 0.026*\"수\" + 0.019*\"가볍다\" + 0.019*\"얼마나\"')\n",
      "(11, '0.026*\"내\" + 0.012*\"바람\" + 0.011*\"생각\" + 0.010*\"오다\"')\n",
      "(12, '0.019*\"얼굴\" + 0.018*\"소리\" + 0.014*\"여자\" + 0.012*\"자꾸만\"')\n",
      "(13, '0.027*\"속\" + 0.023*\"돌다\" + 0.020*\"서다\" + 0.019*\"뜨다\"')\n",
      "(14, '0.040*\"내\" + 0.034*\"사과\" + 0.027*\"쓰다\" + 0.024*\"거\"')\n",
      "(15, '0.016*\"댁\" + 0.015*\"살다\" + 0.013*\"기억\" + 0.012*\"발목\"')\n",
      "(16, '0.016*\"때\" + 0.013*\"붉다\" + 0.013*\"사라지다\" + 0.013*\"들다\"')\n",
      "(17, '0.022*\"소리\" + 0.014*\"닿다\" + 0.014*\"불씨\" + 0.012*\"만들다\"')\n",
      "(18, '0.025*\"좋다\" + 0.021*\"그렇다\" + 0.014*\"때\" + 0.012*\"버리다\"')\n",
      "(19, '0.017*\"말\" + 0.016*\"두\" + 0.014*\"입술\" + 0.012*\"개\"')\n"
     ]
    }
   ],
   "source": [
    "import gensim\n",
    "\n",
    "NUM_TOPICS = 20  # 20개의 토픽, k=20\n",
    "ldamodel = gensim.models.ldamodel.LdaModel(\n",
    "    corpus, num_topics=NUM_TOPICS, id2word=dictionary, passes=15\n",
    ")\n",
    "topics = ldamodel.print_topics(num_words=4)\n",
    "for topic in topics:\n",
    "    print(topic)"
   ]
  }
 ],
 "metadata": {
  "interpreter": {
   "hash": "38c88bfccb11296935abc1c9555fa2bd1ce2d9279bd5fa91f1fe56f84ce6ba67"
  },
  "kernelspec": {
   "display_name": "Python 3.8.0 64-bit ('nlp3': conda)",
   "language": "python",
   "name": "python3"
  },
  "language_info": {
   "codemirror_mode": {
    "name": "ipython",
    "version": 3
   },
   "file_extension": ".py",
   "mimetype": "text/x-python",
   "name": "python",
   "nbconvert_exporter": "python",
   "pygments_lexer": "ipython3",
   "version": "3.8.0"
  },
  "orig_nbformat": 4
 },
 "nbformat": 4,
 "nbformat_minor": 2
}
